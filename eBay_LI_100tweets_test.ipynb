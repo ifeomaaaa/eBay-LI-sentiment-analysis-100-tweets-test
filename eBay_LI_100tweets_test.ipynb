{
  "nbformat": 4,
  "nbformat_minor": 0,
  "metadata": {
    "colab": {
      "name": "eBay_LI_100tweets_test.ipynb",
      "provenance": [],
      "authorship_tag": "ABX9TyOMXjDrmDKVRiRE1Kee8SEo"
    },
    "kernelspec": {
      "name": "python3",
      "display_name": "Python 3"
    },
    "language_info": {
      "name": "python"
    }
  },
  "cells": [
    {
      "cell_type": "code",
      "source": [
        "!pip install textblob\n",
        "import textblob"
      ],
      "metadata": {
        "colab": {
          "base_uri": "https://localhost:8080/"
        },
        "id": "eIIGTRHjBdxj",
        "outputId": "cd12b80e-368e-4255-8d79-b900eb061aad"
      },
      "execution_count": 31,
      "outputs": [
        {
          "output_type": "stream",
          "name": "stdout",
          "text": [
            "Looking in indexes: https://pypi.org/simple, https://us-python.pkg.dev/colab-wheels/public/simple/\n",
            "Requirement already satisfied: textblob in /usr/local/lib/python3.7/dist-packages (0.15.3)\n",
            "Requirement already satisfied: nltk>=3.1 in /usr/local/lib/python3.7/dist-packages (from textblob) (3.7)\n",
            "Requirement already satisfied: regex>=2021.8.3 in /usr/local/lib/python3.7/dist-packages (from nltk>=3.1->textblob) (2022.6.2)\n",
            "Requirement already satisfied: tqdm in /usr/local/lib/python3.7/dist-packages (from nltk>=3.1->textblob) (4.64.0)\n",
            "Requirement already satisfied: joblib in /usr/local/lib/python3.7/dist-packages (from nltk>=3.1->textblob) (1.1.0)\n",
            "Requirement already satisfied: click in /usr/local/lib/python3.7/dist-packages (from nltk>=3.1->textblob) (7.1.2)\n"
          ]
        }
      ]
    },
    {
      "cell_type": "code",
      "execution_count": 32,
      "metadata": {
        "id": "ow7omCfJBGo7"
      },
      "outputs": [],
      "source": [
        "import tweepy as tw\n",
        "from textblob import TextBlob"
      ]
    },
    {
      "cell_type": "code",
      "source": [
        "consumer_key= 'insert'\n",
        "consumer_secret= 'insert'\n",
        "access_token= 'insert'\n",
        "access_token_secret= 'insert'"
      ],
      "metadata": {
        "id": "8vyGC2gPCLik"
      },
      "execution_count": 92,
      "outputs": []
    },
    {
      "cell_type": "code",
      "source": [
        "auth = tw.OAuthHandler(consumer_key, consumer_secret)\n",
        "auth.set_access_token(access_token, access_token_secret)\n",
        "api = tw.API(auth, wait_on_rate_limit=True)"
      ],
      "metadata": {
        "id": "VATB82F2CW_m"
      },
      "execution_count": 34,
      "outputs": []
    },
    {
      "cell_type": "code",
      "source": [
        "public_tweets = api.search('eBay Love Island')"
      ],
      "metadata": {
        "id": "milfuz2rCfdm"
      },
      "execution_count": 35,
      "outputs": []
    },
    {
      "cell_type": "code",
      "source": [
        "for tweet in public_tweets:\n",
        "  print(tweet.text)\n",
        "  analysis = TextBlob(tweet.text)\n",
        "  print(analysis.sentiment)"
      ],
      "metadata": {
        "id": "RxTW1iYiCp68"
      },
      "execution_count": null,
      "outputs": []
    },
    {
      "cell_type": "code",
      "source": [
        "#Try to extract 100 tweets from my eBay Love Island\n",
        "posts = api.search(\"eBay Love Island\", count = 100, lang =\"en\", tweet_mode=\"extended\")\n",
        "\n",
        "#Print the last 10 tweets from the account\n",
        "print(\"Show the 100 recent tweets: \\n\")\n",
        "for tweet in posts[0:100]:\n",
        "  print(tweet.full_text + '\\n')\n"
      ],
      "metadata": {
        "id": "abXhvWVtEHnT"
      },
      "execution_count": null,
      "outputs": []
    },
    {
      "cell_type": "code",
      "source": [
        "#Creating Dataframe of Tweets\n",
        "#Cleaning searched tweets and converting into Dataframe\n",
        "my_list_of_dicts = []\n",
        "for each_json_tweet in public_tweets:\n",
        "    my_list_of_dicts.append(each_json_tweet._json)\n",
        "\n",
        "    \n",
        "with open('tweet_json_Data.txt', 'w') as file:\n",
        "        file.write(json.dumps(my_list_of_dicts, indent=4))\n",
        "\n",
        "        \n",
        "my_demo_list = []\n",
        "with open('tweet_json_Data.txt', encoding='utf-8') as json_file:  \n",
        "    all_data = json.load(json_file)\n",
        "    for each_dictionary in all_data:\n",
        "        tweet_id = each_dictionary['id']\n",
        "        text = each_dictionary['text']\n",
        "        favorite_count = each_dictionary['favorite_count']\n",
        "        retweet_count = each_dictionary['retweet_count']\n",
        "        created_at = each_dictionary['created_at']\n",
        "        my_demo_list.append({'tweet_id': str(tweet_id),\n",
        "                             'text': str(text),\n",
        "                             'favorite_count': int(favorite_count),\n",
        "                             'retweet_count': int(retweet_count),\n",
        "                             'created_at': created_at,\n",
        "                            })\n",
        "        \n",
        "        tweet_dataset = pd.DataFrame(my_demo_list, columns = \n",
        "                                  ['tweet_id', 'text', \n",
        "                                   'favorite_count', 'retweet_count', \n",
        "                                   'created_at'])\n",
        "\n",
        " #Writing tweet dataset ti csv file for future reference\n",
        "tweet_dataset.to_csv('eBayLoveIslan3_data.csv')\n"
      ],
      "metadata": {
        "id": "8p8WhCNbGM7u"
      },
      "execution_count": 38,
      "outputs": []
    },
    {
      "cell_type": "code",
      "source": [
        "tweet_dataset.head(7)"
      ],
      "metadata": {
        "colab": {
          "base_uri": "https://localhost:8080/",
          "height": 269
        },
        "id": "ROJooXp3Gvt_",
        "outputId": "47834c3a-14ce-42e4-a853-eff031635df0"
      },
      "execution_count": 39,
      "outputs": [
        {
          "output_type": "execute_result",
          "data": {
            "text/plain": [
              "              tweet_id                                               text  \\\n",
              "0  1552659746431373313  RT @hubbubUK: Pre-love is in the air♥️Since Lo...   \n",
              "1  1552653616913076224  Pre-love is in the air♥️Since Love Island dump...   \n",
              "2  1552638908038619137  This shows the power of collaborating with #Lo...   \n",
              "3  1552611790365786114  RT @eBayNewsroom: Fans of #LoveIsland are gett...   \n",
              "4  1552609995690213377  48% of consumers are turning towards more eco-...   \n",
              "5  1552609845320097792  🤳 In other words, the Love Island deal should ...   \n",
              "6  1552609839913742336   ✨ EBay x Love Island is an eye-opening collab. 👇   \n",
              "\n",
              "   favorite_count  retweet_count                      created_at  \n",
              "0               0              1  Thu Jul 28 14:18:25 +0000 2022  \n",
              "1               1              1  Thu Jul 28 13:54:03 +0000 2022  \n",
              "2               0              0  Thu Jul 28 12:55:36 +0000 2022  \n",
              "3               0              1  Thu Jul 28 11:07:51 +0000 2022  \n",
              "4               0              0  Thu Jul 28 11:00:43 +0000 2022  \n",
              "5               0              0  Thu Jul 28 11:00:07 +0000 2022  \n",
              "6               0              0  Thu Jul 28 11:00:06 +0000 2022  "
            ],
            "text/html": [
              "\n",
              "  <div id=\"df-bbe61d5f-f15a-44bd-86c6-53c2e50a0dd9\">\n",
              "    <div class=\"colab-df-container\">\n",
              "      <div>\n",
              "<style scoped>\n",
              "    .dataframe tbody tr th:only-of-type {\n",
              "        vertical-align: middle;\n",
              "    }\n",
              "\n",
              "    .dataframe tbody tr th {\n",
              "        vertical-align: top;\n",
              "    }\n",
              "\n",
              "    .dataframe thead th {\n",
              "        text-align: right;\n",
              "    }\n",
              "</style>\n",
              "<table border=\"1\" class=\"dataframe\">\n",
              "  <thead>\n",
              "    <tr style=\"text-align: right;\">\n",
              "      <th></th>\n",
              "      <th>tweet_id</th>\n",
              "      <th>text</th>\n",
              "      <th>favorite_count</th>\n",
              "      <th>retweet_count</th>\n",
              "      <th>created_at</th>\n",
              "    </tr>\n",
              "  </thead>\n",
              "  <tbody>\n",
              "    <tr>\n",
              "      <th>0</th>\n",
              "      <td>1552659746431373313</td>\n",
              "      <td>RT @hubbubUK: Pre-love is in the air♥️Since Lo...</td>\n",
              "      <td>0</td>\n",
              "      <td>1</td>\n",
              "      <td>Thu Jul 28 14:18:25 +0000 2022</td>\n",
              "    </tr>\n",
              "    <tr>\n",
              "      <th>1</th>\n",
              "      <td>1552653616913076224</td>\n",
              "      <td>Pre-love is in the air♥️Since Love Island dump...</td>\n",
              "      <td>1</td>\n",
              "      <td>1</td>\n",
              "      <td>Thu Jul 28 13:54:03 +0000 2022</td>\n",
              "    </tr>\n",
              "    <tr>\n",
              "      <th>2</th>\n",
              "      <td>1552638908038619137</td>\n",
              "      <td>This shows the power of collaborating with #Lo...</td>\n",
              "      <td>0</td>\n",
              "      <td>0</td>\n",
              "      <td>Thu Jul 28 12:55:36 +0000 2022</td>\n",
              "    </tr>\n",
              "    <tr>\n",
              "      <th>3</th>\n",
              "      <td>1552611790365786114</td>\n",
              "      <td>RT @eBayNewsroom: Fans of #LoveIsland are gett...</td>\n",
              "      <td>0</td>\n",
              "      <td>1</td>\n",
              "      <td>Thu Jul 28 11:07:51 +0000 2022</td>\n",
              "    </tr>\n",
              "    <tr>\n",
              "      <th>4</th>\n",
              "      <td>1552609995690213377</td>\n",
              "      <td>48% of consumers are turning towards more eco-...</td>\n",
              "      <td>0</td>\n",
              "      <td>0</td>\n",
              "      <td>Thu Jul 28 11:00:43 +0000 2022</td>\n",
              "    </tr>\n",
              "    <tr>\n",
              "      <th>5</th>\n",
              "      <td>1552609845320097792</td>\n",
              "      <td>🤳 In other words, the Love Island deal should ...</td>\n",
              "      <td>0</td>\n",
              "      <td>0</td>\n",
              "      <td>Thu Jul 28 11:00:07 +0000 2022</td>\n",
              "    </tr>\n",
              "    <tr>\n",
              "      <th>6</th>\n",
              "      <td>1552609839913742336</td>\n",
              "      <td>✨ EBay x Love Island is an eye-opening collab. 👇</td>\n",
              "      <td>0</td>\n",
              "      <td>0</td>\n",
              "      <td>Thu Jul 28 11:00:06 +0000 2022</td>\n",
              "    </tr>\n",
              "  </tbody>\n",
              "</table>\n",
              "</div>\n",
              "      <button class=\"colab-df-convert\" onclick=\"convertToInteractive('df-bbe61d5f-f15a-44bd-86c6-53c2e50a0dd9')\"\n",
              "              title=\"Convert this dataframe to an interactive table.\"\n",
              "              style=\"display:none;\">\n",
              "        \n",
              "  <svg xmlns=\"http://www.w3.org/2000/svg\" height=\"24px\"viewBox=\"0 0 24 24\"\n",
              "       width=\"24px\">\n",
              "    <path d=\"M0 0h24v24H0V0z\" fill=\"none\"/>\n",
              "    <path d=\"M18.56 5.44l.94 2.06.94-2.06 2.06-.94-2.06-.94-.94-2.06-.94 2.06-2.06.94zm-11 1L8.5 8.5l.94-2.06 2.06-.94-2.06-.94L8.5 2.5l-.94 2.06-2.06.94zm10 10l.94 2.06.94-2.06 2.06-.94-2.06-.94-.94-2.06-.94 2.06-2.06.94z\"/><path d=\"M17.41 7.96l-1.37-1.37c-.4-.4-.92-.59-1.43-.59-.52 0-1.04.2-1.43.59L10.3 9.45l-7.72 7.72c-.78.78-.78 2.05 0 2.83L4 21.41c.39.39.9.59 1.41.59.51 0 1.02-.2 1.41-.59l7.78-7.78 2.81-2.81c.8-.78.8-2.07 0-2.86zM5.41 20L4 18.59l7.72-7.72 1.47 1.35L5.41 20z\"/>\n",
              "  </svg>\n",
              "      </button>\n",
              "      \n",
              "  <style>\n",
              "    .colab-df-container {\n",
              "      display:flex;\n",
              "      flex-wrap:wrap;\n",
              "      gap: 12px;\n",
              "    }\n",
              "\n",
              "    .colab-df-convert {\n",
              "      background-color: #E8F0FE;\n",
              "      border: none;\n",
              "      border-radius: 50%;\n",
              "      cursor: pointer;\n",
              "      display: none;\n",
              "      fill: #1967D2;\n",
              "      height: 32px;\n",
              "      padding: 0 0 0 0;\n",
              "      width: 32px;\n",
              "    }\n",
              "\n",
              "    .colab-df-convert:hover {\n",
              "      background-color: #E2EBFA;\n",
              "      box-shadow: 0px 1px 2px rgba(60, 64, 67, 0.3), 0px 1px 3px 1px rgba(60, 64, 67, 0.15);\n",
              "      fill: #174EA6;\n",
              "    }\n",
              "\n",
              "    [theme=dark] .colab-df-convert {\n",
              "      background-color: #3B4455;\n",
              "      fill: #D2E3FC;\n",
              "    }\n",
              "\n",
              "    [theme=dark] .colab-df-convert:hover {\n",
              "      background-color: #434B5C;\n",
              "      box-shadow: 0px 1px 3px 1px rgba(0, 0, 0, 0.15);\n",
              "      filter: drop-shadow(0px 1px 2px rgba(0, 0, 0, 0.3));\n",
              "      fill: #FFFFFF;\n",
              "    }\n",
              "  </style>\n",
              "\n",
              "      <script>\n",
              "        const buttonEl =\n",
              "          document.querySelector('#df-bbe61d5f-f15a-44bd-86c6-53c2e50a0dd9 button.colab-df-convert');\n",
              "        buttonEl.style.display =\n",
              "          google.colab.kernel.accessAllowed ? 'block' : 'none';\n",
              "\n",
              "        async function convertToInteractive(key) {\n",
              "          const element = document.querySelector('#df-bbe61d5f-f15a-44bd-86c6-53c2e50a0dd9');\n",
              "          const dataTable =\n",
              "            await google.colab.kernel.invokeFunction('convertToInteractive',\n",
              "                                                     [key], {});\n",
              "          if (!dataTable) return;\n",
              "\n",
              "          const docLinkHtml = 'Like what you see? Visit the ' +\n",
              "            '<a target=\"_blank\" href=https://colab.research.google.com/notebooks/data_table.ipynb>data table notebook</a>'\n",
              "            + ' to learn more about interactive tables.';\n",
              "          element.innerHTML = '';\n",
              "          dataTable['output_type'] = 'display_data';\n",
              "          await google.colab.output.renderOutput(dataTable, element);\n",
              "          const docLink = document.createElement('div');\n",
              "          docLink.innerHTML = docLinkHtml;\n",
              "          element.appendChild(docLink);\n",
              "        }\n",
              "      </script>\n",
              "    </div>\n",
              "  </div>\n",
              "  "
            ]
          },
          "metadata": {},
          "execution_count": 39
        }
      ]
    },
    {
      "cell_type": "code",
      "source": [
        "def cleanUpTweet(txt):\n",
        "  txt = re.sub(r'@[A-Za-z0-9_]+', '',txt)\n",
        "  txt = re.sub(r'#', '', txt)\n",
        "  txt = re.sub(r'RT : ', '', txt)\n",
        "  txt = re.sub(r'https?:\\/\\/[A-Aa-a0-9\\.\\/]+', '', txt)\n",
        "  return txt"
      ],
      "metadata": {
        "id": "jOHqGLNoHFe_"
      },
      "execution_count": 40,
      "outputs": []
    },
    {
      "cell_type": "code",
      "source": [
        "tweet_dataset['text']=tweet_dataset['text'].apply(cleanUpTweet)\n",
        "#20, 26, 48 and codes found https://www.youtube.com/watch?v=z4ff5veeCVY&t=2037s"
      ],
      "metadata": {
        "colab": {
          "base_uri": "https://localhost:8080/",
          "height": 17
        },
        "id": "EA5BagAIKgnE",
        "outputId": "7c3d08cc-25fa-495e-f4de-a446af20ad7c"
      },
      "execution_count": 41,
      "outputs": [
        {
          "output_type": "display_data",
          "data": {
            "text/plain": [
              "<IPython.core.display.Javascript object>"
            ],
            "application/javascript": [
              "\n",
              "    async function download(id, filename, size) {\n",
              "      if (!google.colab.kernel.accessAllowed) {\n",
              "        return;\n",
              "      }\n",
              "      const div = document.createElement('div');\n",
              "      const label = document.createElement('label');\n",
              "      label.textContent = `Downloading \"${filename}\": `;\n",
              "      div.appendChild(label);\n",
              "      const progress = document.createElement('progress');\n",
              "      progress.max = size;\n",
              "      div.appendChild(progress);\n",
              "      document.body.appendChild(div);\n",
              "\n",
              "      const buffers = [];\n",
              "      let downloaded = 0;\n",
              "\n",
              "      const channel = await google.colab.kernel.comms.open(id);\n",
              "      // Send a message to notify the kernel that we're ready.\n",
              "      channel.send({})\n",
              "\n",
              "      for await (const message of channel.messages) {\n",
              "        // Send a message to notify the kernel that we're ready.\n",
              "        channel.send({})\n",
              "        if (message.buffers) {\n",
              "          for (const buffer of message.buffers) {\n",
              "            buffers.push(buffer);\n",
              "            downloaded += buffer.byteLength;\n",
              "            progress.value = downloaded;\n",
              "          }\n",
              "        }\n",
              "      }\n",
              "      const blob = new Blob(buffers, {type: 'application/binary'});\n",
              "      const a = document.createElement('a');\n",
              "      a.href = window.URL.createObjectURL(blob);\n",
              "      a.download = filename;\n",
              "      div.appendChild(a);\n",
              "      a.click();\n",
              "      div.remove();\n",
              "    }\n",
              "  "
            ]
          },
          "metadata": {}
        },
        {
          "output_type": "display_data",
          "data": {
            "text/plain": [
              "<IPython.core.display.Javascript object>"
            ],
            "application/javascript": [
              "download(\"download_6921b26f-0218-49f5-8b95-a5ef345bdb31\", \"eBayLoveIslan3_data.csv\", 2932)"
            ]
          },
          "metadata": {}
        }
      ]
    },
    {
      "cell_type": "code",
      "source": [
        "tweet_dataset.tail()"
      ],
      "metadata": {
        "colab": {
          "base_uri": "https://localhost:8080/",
          "height": 206
        },
        "id": "Nksi9cT-K4FB",
        "outputId": "d1b07c65-0e44-4f01-db5f-512e127af45f"
      },
      "execution_count": 45,
      "outputs": [
        {
          "output_type": "execute_result",
          "data": {
            "text/plain": [
              "               tweet_id                                               text  \\\n",
              "10  1552307356930916356  How much of a difference has LoveIsland partne...   \n",
              "11  1552257512128249861  Grafting for pre-love always works with eBay x...   \n",
              "12  1552093082929090560  It's awesome to see that the showrunners at \"L...   \n",
              "13  1552033810782584833  With a cast clad in eBay hand-me-downs, Love I...   \n",
              "14  1552024721360916480  Fans of LoveIsland are getting in on the pre-l...   \n",
              "\n",
              "    favorite_count  retweet_count                      created_at  \n",
              "10               1              0  Wed Jul 27 14:58:09 +0000 2022  \n",
              "11               0              2  Wed Jul 27 11:40:05 +0000 2022  \n",
              "12               0              3  Wed Jul 27 00:46:42 +0000 2022  \n",
              "13               1              0  Tue Jul 26 20:51:10 +0000 2022  \n",
              "14               1              1  Tue Jul 26 20:15:03 +0000 2022  "
            ],
            "text/html": [
              "\n",
              "  <div id=\"df-c79a995a-d4db-4400-888a-bc4fcd7fd0ac\">\n",
              "    <div class=\"colab-df-container\">\n",
              "      <div>\n",
              "<style scoped>\n",
              "    .dataframe tbody tr th:only-of-type {\n",
              "        vertical-align: middle;\n",
              "    }\n",
              "\n",
              "    .dataframe tbody tr th {\n",
              "        vertical-align: top;\n",
              "    }\n",
              "\n",
              "    .dataframe thead th {\n",
              "        text-align: right;\n",
              "    }\n",
              "</style>\n",
              "<table border=\"1\" class=\"dataframe\">\n",
              "  <thead>\n",
              "    <tr style=\"text-align: right;\">\n",
              "      <th></th>\n",
              "      <th>tweet_id</th>\n",
              "      <th>text</th>\n",
              "      <th>favorite_count</th>\n",
              "      <th>retweet_count</th>\n",
              "      <th>created_at</th>\n",
              "    </tr>\n",
              "  </thead>\n",
              "  <tbody>\n",
              "    <tr>\n",
              "      <th>10</th>\n",
              "      <td>1552307356930916356</td>\n",
              "      <td>How much of a difference has LoveIsland partne...</td>\n",
              "      <td>1</td>\n",
              "      <td>0</td>\n",
              "      <td>Wed Jul 27 14:58:09 +0000 2022</td>\n",
              "    </tr>\n",
              "    <tr>\n",
              "      <th>11</th>\n",
              "      <td>1552257512128249861</td>\n",
              "      <td>Grafting for pre-love always works with eBay x...</td>\n",
              "      <td>0</td>\n",
              "      <td>2</td>\n",
              "      <td>Wed Jul 27 11:40:05 +0000 2022</td>\n",
              "    </tr>\n",
              "    <tr>\n",
              "      <th>12</th>\n",
              "      <td>1552093082929090560</td>\n",
              "      <td>It's awesome to see that the showrunners at \"L...</td>\n",
              "      <td>0</td>\n",
              "      <td>3</td>\n",
              "      <td>Wed Jul 27 00:46:42 +0000 2022</td>\n",
              "    </tr>\n",
              "    <tr>\n",
              "      <th>13</th>\n",
              "      <td>1552033810782584833</td>\n",
              "      <td>With a cast clad in eBay hand-me-downs, Love I...</td>\n",
              "      <td>1</td>\n",
              "      <td>0</td>\n",
              "      <td>Tue Jul 26 20:51:10 +0000 2022</td>\n",
              "    </tr>\n",
              "    <tr>\n",
              "      <th>14</th>\n",
              "      <td>1552024721360916480</td>\n",
              "      <td>Fans of LoveIsland are getting in on the pre-l...</td>\n",
              "      <td>1</td>\n",
              "      <td>1</td>\n",
              "      <td>Tue Jul 26 20:15:03 +0000 2022</td>\n",
              "    </tr>\n",
              "  </tbody>\n",
              "</table>\n",
              "</div>\n",
              "      <button class=\"colab-df-convert\" onclick=\"convertToInteractive('df-c79a995a-d4db-4400-888a-bc4fcd7fd0ac')\"\n",
              "              title=\"Convert this dataframe to an interactive table.\"\n",
              "              style=\"display:none;\">\n",
              "        \n",
              "  <svg xmlns=\"http://www.w3.org/2000/svg\" height=\"24px\"viewBox=\"0 0 24 24\"\n",
              "       width=\"24px\">\n",
              "    <path d=\"M0 0h24v24H0V0z\" fill=\"none\"/>\n",
              "    <path d=\"M18.56 5.44l.94 2.06.94-2.06 2.06-.94-2.06-.94-.94-2.06-.94 2.06-2.06.94zm-11 1L8.5 8.5l.94-2.06 2.06-.94-2.06-.94L8.5 2.5l-.94 2.06-2.06.94zm10 10l.94 2.06.94-2.06 2.06-.94-2.06-.94-.94-2.06-.94 2.06-2.06.94z\"/><path d=\"M17.41 7.96l-1.37-1.37c-.4-.4-.92-.59-1.43-.59-.52 0-1.04.2-1.43.59L10.3 9.45l-7.72 7.72c-.78.78-.78 2.05 0 2.83L4 21.41c.39.39.9.59 1.41.59.51 0 1.02-.2 1.41-.59l7.78-7.78 2.81-2.81c.8-.78.8-2.07 0-2.86zM5.41 20L4 18.59l7.72-7.72 1.47 1.35L5.41 20z\"/>\n",
              "  </svg>\n",
              "      </button>\n",
              "      \n",
              "  <style>\n",
              "    .colab-df-container {\n",
              "      display:flex;\n",
              "      flex-wrap:wrap;\n",
              "      gap: 12px;\n",
              "    }\n",
              "\n",
              "    .colab-df-convert {\n",
              "      background-color: #E8F0FE;\n",
              "      border: none;\n",
              "      border-radius: 50%;\n",
              "      cursor: pointer;\n",
              "      display: none;\n",
              "      fill: #1967D2;\n",
              "      height: 32px;\n",
              "      padding: 0 0 0 0;\n",
              "      width: 32px;\n",
              "    }\n",
              "\n",
              "    .colab-df-convert:hover {\n",
              "      background-color: #E2EBFA;\n",
              "      box-shadow: 0px 1px 2px rgba(60, 64, 67, 0.3), 0px 1px 3px 1px rgba(60, 64, 67, 0.15);\n",
              "      fill: #174EA6;\n",
              "    }\n",
              "\n",
              "    [theme=dark] .colab-df-convert {\n",
              "      background-color: #3B4455;\n",
              "      fill: #D2E3FC;\n",
              "    }\n",
              "\n",
              "    [theme=dark] .colab-df-convert:hover {\n",
              "      background-color: #434B5C;\n",
              "      box-shadow: 0px 1px 3px 1px rgba(0, 0, 0, 0.15);\n",
              "      filter: drop-shadow(0px 1px 2px rgba(0, 0, 0, 0.3));\n",
              "      fill: #FFFFFF;\n",
              "    }\n",
              "  </style>\n",
              "\n",
              "      <script>\n",
              "        const buttonEl =\n",
              "          document.querySelector('#df-c79a995a-d4db-4400-888a-bc4fcd7fd0ac button.colab-df-convert');\n",
              "        buttonEl.style.display =\n",
              "          google.colab.kernel.accessAllowed ? 'block' : 'none';\n",
              "\n",
              "        async function convertToInteractive(key) {\n",
              "          const element = document.querySelector('#df-c79a995a-d4db-4400-888a-bc4fcd7fd0ac');\n",
              "          const dataTable =\n",
              "            await google.colab.kernel.invokeFunction('convertToInteractive',\n",
              "                                                     [key], {});\n",
              "          if (!dataTable) return;\n",
              "\n",
              "          const docLinkHtml = 'Like what you see? Visit the ' +\n",
              "            '<a target=\"_blank\" href=https://colab.research.google.com/notebooks/data_table.ipynb>data table notebook</a>'\n",
              "            + ' to learn more about interactive tables.';\n",
              "          element.innerHTML = '';\n",
              "          dataTable['output_type'] = 'display_data';\n",
              "          await google.colab.output.renderOutput(dataTable, element);\n",
              "          const docLink = document.createElement('div');\n",
              "          docLink.innerHTML = docLinkHtml;\n",
              "          element.appendChild(docLink);\n",
              "        }\n",
              "      </script>\n",
              "    </div>\n",
              "  </div>\n",
              "  "
            ]
          },
          "metadata": {},
          "execution_count": 45
        }
      ]
    },
    {
      "cell_type": "code",
      "source": [
        "import pandas as pd\n",
        "import numpy as np\n",
        "import matplotlib.pyplot as plt\n",
        "import re\n",
        "import nltk\n",
        "nltk.download('stopwords')\n",
        "from nltk.corpus import stopwords\n",
        "from nltk.stem.porter import PorterStemmer\n",
        "from wordcloud import WordCloud\n",
        "import json\n",
        "from collections import Counter"
      ],
      "metadata": {
        "colab": {
          "base_uri": "https://localhost:8080/"
        },
        "id": "jCT5JuUQFSZY",
        "outputId": "b1ee8b13-68da-4818-8c8b-205fd501189a"
      },
      "execution_count": 43,
      "outputs": [
        {
          "output_type": "stream",
          "name": "stderr",
          "text": [
            "[nltk_data] Downloading package stopwords to /root/nltk_data...\n",
            "[nltk_data]   Package stopwords is already up-to-date!\n"
          ]
        }
      ]
    },
    {
      "cell_type": "code",
      "source": [
        "def getTextSubjectivity(txt):\n",
        "  return TextBlob(txt).sentiment.subjectivity\n",
        "\n",
        "def getTextPolarity(txt):\n",
        "  return TextBlob(txt).sentiment.polarity\n"
      ],
      "metadata": {
        "id": "0wjmcLcrMaqn"
      },
      "execution_count": 48,
      "outputs": []
    },
    {
      "cell_type": "code",
      "source": [
        "tweet_dataset['Subjectivity']=tweet_dataset['text'].apply(getTextSubjectivity)\n",
        "tweet_dataset['Polarity']=tweet_dataset['text'].apply(getTextPolarity) #polarity<0 = -ve sentiment, =0 =neutral and >0 = +ve\n",
        "tweet_dataset.head(50)"
      ],
      "metadata": {
        "colab": {
          "base_uri": "https://localhost:8080/",
          "height": 520
        },
        "id": "FBeLjhfYM5l8",
        "outputId": "5e695d32-b1fe-4a0e-bf5f-8204d07dbfbc"
      },
      "execution_count": 55,
      "outputs": [
        {
          "output_type": "execute_result",
          "data": {
            "text/plain": [
              "               tweet_id                                               text  \\\n",
              "0   1552659746431373313  Pre-love is in the air♥️Since Love Island dump...   \n",
              "1   1552653616913076224  Pre-love is in the air♥️Since Love Island dump...   \n",
              "2   1552638908038619137  This shows the power of collaborating with Lov...   \n",
              "3   1552611790365786114  Fans of LoveIsland are getting in on the pre-l...   \n",
              "4   1552609995690213377  48% of consumers are turning towards more eco-...   \n",
              "5   1552609845320097792  🤳 In other words, the Love Island deal should ...   \n",
              "6   1552609839913742336   ✨ EBay x Love Island is an eye-opening collab. 👇   \n",
              "7   1552609834976980993  📺 UK reality show \"Love Island\" has linked up ...   \n",
              "8   1552360674155581440  Andrew didn't sit on the yellow bean bag last ...   \n",
              "9   1552353123376791553  Might this be our new favourite pre-loved coup...   \n",
              "10  1552307356930916356  How much of a difference has LoveIsland partne...   \n",
              "11  1552257512128249861  Grafting for pre-love always works with eBay x...   \n",
              "12  1552093082929090560  It's awesome to see that the showrunners at \"L...   \n",
              "13  1552033810782584833  With a cast clad in eBay hand-me-downs, Love I...   \n",
              "14  1552024721360916480  Fans of LoveIsland are getting in on the pre-l...   \n",
              "\n",
              "    favorite_count  retweet_count                      created_at  \\\n",
              "0                0              1  Thu Jul 28 14:18:25 +0000 2022   \n",
              "1                1              1  Thu Jul 28 13:54:03 +0000 2022   \n",
              "2                0              0  Thu Jul 28 12:55:36 +0000 2022   \n",
              "3                0              1  Thu Jul 28 11:07:51 +0000 2022   \n",
              "4                0              0  Thu Jul 28 11:00:43 +0000 2022   \n",
              "5                0              0  Thu Jul 28 11:00:07 +0000 2022   \n",
              "6                0              0  Thu Jul 28 11:00:06 +0000 2022   \n",
              "7                0              0  Thu Jul 28 11:00:05 +0000 2022   \n",
              "8                2              0  Wed Jul 27 18:30:00 +0000 2022   \n",
              "9                2              0  Wed Jul 27 18:00:00 +0000 2022   \n",
              "10               1              0  Wed Jul 27 14:58:09 +0000 2022   \n",
              "11               0              2  Wed Jul 27 11:40:05 +0000 2022   \n",
              "12               0              3  Wed Jul 27 00:46:42 +0000 2022   \n",
              "13               1              0  Tue Jul 26 20:51:10 +0000 2022   \n",
              "14               1              1  Tue Jul 26 20:15:03 +0000 2022   \n",
              "\n",
              "    Subjectivity  Polarity  \n",
              "0       0.600000  0.500000  \n",
              "1       0.600000  0.500000  \n",
              "2       0.000000  0.000000  \n",
              "3       0.000000  0.000000  \n",
              "4       0.500000  0.250000  \n",
              "5       0.487500  0.187500  \n",
              "6       0.600000  0.500000  \n",
              "7       0.600000  0.500000  \n",
              "8       0.033333  0.000000  \n",
              "9       0.454545  0.136364  \n",
              "10      0.350000  0.350000  \n",
              "11      0.600000  0.500000  \n",
              "12      0.588889  0.444444  \n",
              "13      0.600000  0.500000  \n",
              "14      0.000000  0.000000  "
            ],
            "text/html": [
              "\n",
              "  <div id=\"df-094d70ca-89f3-407b-8403-8d3e344df3e6\">\n",
              "    <div class=\"colab-df-container\">\n",
              "      <div>\n",
              "<style scoped>\n",
              "    .dataframe tbody tr th:only-of-type {\n",
              "        vertical-align: middle;\n",
              "    }\n",
              "\n",
              "    .dataframe tbody tr th {\n",
              "        vertical-align: top;\n",
              "    }\n",
              "\n",
              "    .dataframe thead th {\n",
              "        text-align: right;\n",
              "    }\n",
              "</style>\n",
              "<table border=\"1\" class=\"dataframe\">\n",
              "  <thead>\n",
              "    <tr style=\"text-align: right;\">\n",
              "      <th></th>\n",
              "      <th>tweet_id</th>\n",
              "      <th>text</th>\n",
              "      <th>favorite_count</th>\n",
              "      <th>retweet_count</th>\n",
              "      <th>created_at</th>\n",
              "      <th>Subjectivity</th>\n",
              "      <th>Polarity</th>\n",
              "    </tr>\n",
              "  </thead>\n",
              "  <tbody>\n",
              "    <tr>\n",
              "      <th>0</th>\n",
              "      <td>1552659746431373313</td>\n",
              "      <td>Pre-love is in the air♥️Since Love Island dump...</td>\n",
              "      <td>0</td>\n",
              "      <td>1</td>\n",
              "      <td>Thu Jul 28 14:18:25 +0000 2022</td>\n",
              "      <td>0.600000</td>\n",
              "      <td>0.500000</td>\n",
              "    </tr>\n",
              "    <tr>\n",
              "      <th>1</th>\n",
              "      <td>1552653616913076224</td>\n",
              "      <td>Pre-love is in the air♥️Since Love Island dump...</td>\n",
              "      <td>1</td>\n",
              "      <td>1</td>\n",
              "      <td>Thu Jul 28 13:54:03 +0000 2022</td>\n",
              "      <td>0.600000</td>\n",
              "      <td>0.500000</td>\n",
              "    </tr>\n",
              "    <tr>\n",
              "      <th>2</th>\n",
              "      <td>1552638908038619137</td>\n",
              "      <td>This shows the power of collaborating with Lov...</td>\n",
              "      <td>0</td>\n",
              "      <td>0</td>\n",
              "      <td>Thu Jul 28 12:55:36 +0000 2022</td>\n",
              "      <td>0.000000</td>\n",
              "      <td>0.000000</td>\n",
              "    </tr>\n",
              "    <tr>\n",
              "      <th>3</th>\n",
              "      <td>1552611790365786114</td>\n",
              "      <td>Fans of LoveIsland are getting in on the pre-l...</td>\n",
              "      <td>0</td>\n",
              "      <td>1</td>\n",
              "      <td>Thu Jul 28 11:07:51 +0000 2022</td>\n",
              "      <td>0.000000</td>\n",
              "      <td>0.000000</td>\n",
              "    </tr>\n",
              "    <tr>\n",
              "      <th>4</th>\n",
              "      <td>1552609995690213377</td>\n",
              "      <td>48% of consumers are turning towards more eco-...</td>\n",
              "      <td>0</td>\n",
              "      <td>0</td>\n",
              "      <td>Thu Jul 28 11:00:43 +0000 2022</td>\n",
              "      <td>0.500000</td>\n",
              "      <td>0.250000</td>\n",
              "    </tr>\n",
              "    <tr>\n",
              "      <th>5</th>\n",
              "      <td>1552609845320097792</td>\n",
              "      <td>🤳 In other words, the Love Island deal should ...</td>\n",
              "      <td>0</td>\n",
              "      <td>0</td>\n",
              "      <td>Thu Jul 28 11:00:07 +0000 2022</td>\n",
              "      <td>0.487500</td>\n",
              "      <td>0.187500</td>\n",
              "    </tr>\n",
              "    <tr>\n",
              "      <th>6</th>\n",
              "      <td>1552609839913742336</td>\n",
              "      <td>✨ EBay x Love Island is an eye-opening collab. 👇</td>\n",
              "      <td>0</td>\n",
              "      <td>0</td>\n",
              "      <td>Thu Jul 28 11:00:06 +0000 2022</td>\n",
              "      <td>0.600000</td>\n",
              "      <td>0.500000</td>\n",
              "    </tr>\n",
              "    <tr>\n",
              "      <th>7</th>\n",
              "      <td>1552609834976980993</td>\n",
              "      <td>📺 UK reality show \"Love Island\" has linked up ...</td>\n",
              "      <td>0</td>\n",
              "      <td>0</td>\n",
              "      <td>Thu Jul 28 11:00:05 +0000 2022</td>\n",
              "      <td>0.600000</td>\n",
              "      <td>0.500000</td>\n",
              "    </tr>\n",
              "    <tr>\n",
              "      <th>8</th>\n",
              "      <td>1552360674155581440</td>\n",
              "      <td>Andrew didn't sit on the yellow bean bag last ...</td>\n",
              "      <td>2</td>\n",
              "      <td>0</td>\n",
              "      <td>Wed Jul 27 18:30:00 +0000 2022</td>\n",
              "      <td>0.033333</td>\n",
              "      <td>0.000000</td>\n",
              "    </tr>\n",
              "    <tr>\n",
              "      <th>9</th>\n",
              "      <td>1552353123376791553</td>\n",
              "      <td>Might this be our new favourite pre-loved coup...</td>\n",
              "      <td>2</td>\n",
              "      <td>0</td>\n",
              "      <td>Wed Jul 27 18:00:00 +0000 2022</td>\n",
              "      <td>0.454545</td>\n",
              "      <td>0.136364</td>\n",
              "    </tr>\n",
              "    <tr>\n",
              "      <th>10</th>\n",
              "      <td>1552307356930916356</td>\n",
              "      <td>How much of a difference has LoveIsland partne...</td>\n",
              "      <td>1</td>\n",
              "      <td>0</td>\n",
              "      <td>Wed Jul 27 14:58:09 +0000 2022</td>\n",
              "      <td>0.350000</td>\n",
              "      <td>0.350000</td>\n",
              "    </tr>\n",
              "    <tr>\n",
              "      <th>11</th>\n",
              "      <td>1552257512128249861</td>\n",
              "      <td>Grafting for pre-love always works with eBay x...</td>\n",
              "      <td>0</td>\n",
              "      <td>2</td>\n",
              "      <td>Wed Jul 27 11:40:05 +0000 2022</td>\n",
              "      <td>0.600000</td>\n",
              "      <td>0.500000</td>\n",
              "    </tr>\n",
              "    <tr>\n",
              "      <th>12</th>\n",
              "      <td>1552093082929090560</td>\n",
              "      <td>It's awesome to see that the showrunners at \"L...</td>\n",
              "      <td>0</td>\n",
              "      <td>3</td>\n",
              "      <td>Wed Jul 27 00:46:42 +0000 2022</td>\n",
              "      <td>0.588889</td>\n",
              "      <td>0.444444</td>\n",
              "    </tr>\n",
              "    <tr>\n",
              "      <th>13</th>\n",
              "      <td>1552033810782584833</td>\n",
              "      <td>With a cast clad in eBay hand-me-downs, Love I...</td>\n",
              "      <td>1</td>\n",
              "      <td>0</td>\n",
              "      <td>Tue Jul 26 20:51:10 +0000 2022</td>\n",
              "      <td>0.600000</td>\n",
              "      <td>0.500000</td>\n",
              "    </tr>\n",
              "    <tr>\n",
              "      <th>14</th>\n",
              "      <td>1552024721360916480</td>\n",
              "      <td>Fans of LoveIsland are getting in on the pre-l...</td>\n",
              "      <td>1</td>\n",
              "      <td>1</td>\n",
              "      <td>Tue Jul 26 20:15:03 +0000 2022</td>\n",
              "      <td>0.000000</td>\n",
              "      <td>0.000000</td>\n",
              "    </tr>\n",
              "  </tbody>\n",
              "</table>\n",
              "</div>\n",
              "      <button class=\"colab-df-convert\" onclick=\"convertToInteractive('df-094d70ca-89f3-407b-8403-8d3e344df3e6')\"\n",
              "              title=\"Convert this dataframe to an interactive table.\"\n",
              "              style=\"display:none;\">\n",
              "        \n",
              "  <svg xmlns=\"http://www.w3.org/2000/svg\" height=\"24px\"viewBox=\"0 0 24 24\"\n",
              "       width=\"24px\">\n",
              "    <path d=\"M0 0h24v24H0V0z\" fill=\"none\"/>\n",
              "    <path d=\"M18.56 5.44l.94 2.06.94-2.06 2.06-.94-2.06-.94-.94-2.06-.94 2.06-2.06.94zm-11 1L8.5 8.5l.94-2.06 2.06-.94-2.06-.94L8.5 2.5l-.94 2.06-2.06.94zm10 10l.94 2.06.94-2.06 2.06-.94-2.06-.94-.94-2.06-.94 2.06-2.06.94z\"/><path d=\"M17.41 7.96l-1.37-1.37c-.4-.4-.92-.59-1.43-.59-.52 0-1.04.2-1.43.59L10.3 9.45l-7.72 7.72c-.78.78-.78 2.05 0 2.83L4 21.41c.39.39.9.59 1.41.59.51 0 1.02-.2 1.41-.59l7.78-7.78 2.81-2.81c.8-.78.8-2.07 0-2.86zM5.41 20L4 18.59l7.72-7.72 1.47 1.35L5.41 20z\"/>\n",
              "  </svg>\n",
              "      </button>\n",
              "      \n",
              "  <style>\n",
              "    .colab-df-container {\n",
              "      display:flex;\n",
              "      flex-wrap:wrap;\n",
              "      gap: 12px;\n",
              "    }\n",
              "\n",
              "    .colab-df-convert {\n",
              "      background-color: #E8F0FE;\n",
              "      border: none;\n",
              "      border-radius: 50%;\n",
              "      cursor: pointer;\n",
              "      display: none;\n",
              "      fill: #1967D2;\n",
              "      height: 32px;\n",
              "      padding: 0 0 0 0;\n",
              "      width: 32px;\n",
              "    }\n",
              "\n",
              "    .colab-df-convert:hover {\n",
              "      background-color: #E2EBFA;\n",
              "      box-shadow: 0px 1px 2px rgba(60, 64, 67, 0.3), 0px 1px 3px 1px rgba(60, 64, 67, 0.15);\n",
              "      fill: #174EA6;\n",
              "    }\n",
              "\n",
              "    [theme=dark] .colab-df-convert {\n",
              "      background-color: #3B4455;\n",
              "      fill: #D2E3FC;\n",
              "    }\n",
              "\n",
              "    [theme=dark] .colab-df-convert:hover {\n",
              "      background-color: #434B5C;\n",
              "      box-shadow: 0px 1px 3px 1px rgba(0, 0, 0, 0.15);\n",
              "      filter: drop-shadow(0px 1px 2px rgba(0, 0, 0, 0.3));\n",
              "      fill: #FFFFFF;\n",
              "    }\n",
              "  </style>\n",
              "\n",
              "      <script>\n",
              "        const buttonEl =\n",
              "          document.querySelector('#df-094d70ca-89f3-407b-8403-8d3e344df3e6 button.colab-df-convert');\n",
              "        buttonEl.style.display =\n",
              "          google.colab.kernel.accessAllowed ? 'block' : 'none';\n",
              "\n",
              "        async function convertToInteractive(key) {\n",
              "          const element = document.querySelector('#df-094d70ca-89f3-407b-8403-8d3e344df3e6');\n",
              "          const dataTable =\n",
              "            await google.colab.kernel.invokeFunction('convertToInteractive',\n",
              "                                                     [key], {});\n",
              "          if (!dataTable) return;\n",
              "\n",
              "          const docLinkHtml = 'Like what you see? Visit the ' +\n",
              "            '<a target=\"_blank\" href=https://colab.research.google.com/notebooks/data_table.ipynb>data table notebook</a>'\n",
              "            + ' to learn more about interactive tables.';\n",
              "          element.innerHTML = '';\n",
              "          dataTable['output_type'] = 'display_data';\n",
              "          await google.colab.output.renderOutput(dataTable, element);\n",
              "          const docLink = document.createElement('div');\n",
              "          docLink.innerHTML = docLinkHtml;\n",
              "          element.appendChild(docLink);\n",
              "        }\n",
              "      </script>\n",
              "    </div>\n",
              "  </div>\n",
              "  "
            ]
          },
          "metadata": {},
          "execution_count": 55
        }
      ]
    },
    {
      "cell_type": "code",
      "source": [
        "def getTextAnalysis(a):\n",
        "  if a<0:\n",
        "    return \"Negative\"\n",
        "  elif a==0:\n",
        "    return \"Neutral\"\n",
        "  else:\n",
        "    return \"Positive\""
      ],
      "metadata": {
        "id": "LicfHlFBNqvh"
      },
      "execution_count": 54,
      "outputs": []
    },
    {
      "cell_type": "code",
      "source": [
        "tweet_dataset[\"Score\"]=tweet_dataset['Polarity'].apply(getTextAnalysis)\n",
        "tweet_dataset.head(100)"
      ],
      "metadata": {
        "id": "Hvl-6l8EPLBT"
      },
      "execution_count": null,
      "outputs": []
    },
    {
      "cell_type": "code",
      "source": [
        "positive=tweet_dataset[tweet_dataset['Score']==\"Positive\"]\n",
        "print(str(positive.shape[0]/(tweet_dataset.shape[0])*100)+\"% of Positive tweets\")\n",
        "pos=positive.shape[0]/tweet_dataset.shape[0]*100\n"
      ],
      "metadata": {
        "colab": {
          "base_uri": "https://localhost:8080/"
        },
        "id": "t7IynyM6PlnB",
        "outputId": "82844612-d786-4dea-c9fd-502312f06d1c"
      },
      "execution_count": 61,
      "outputs": [
        {
          "output_type": "stream",
          "name": "stdout",
          "text": [
            "73.33333333333333% of positive tweets\n"
          ]
        }
      ]
    },
    {
      "cell_type": "code",
      "source": [
        "negative=tweet_dataset[tweet_dataset['Score']==\"Negative\"]\n",
        "print(str(negative.shape[0]/(tweet_dataset.shape[0])*100)+\"% of Negative tweets\")\n",
        "neg=negative.shape[0]/tweet_dataset.shape[0]*100\n"
      ],
      "metadata": {
        "colab": {
          "base_uri": "https://localhost:8080/"
        },
        "id": "7Xp3AA12QwcX",
        "outputId": "b1f5456d-9c64-4e10-d598-5c8b8a7533f4"
      },
      "execution_count": 62,
      "outputs": [
        {
          "output_type": "stream",
          "name": "stdout",
          "text": [
            "0.0% of Negative tweets\n"
          ]
        }
      ]
    },
    {
      "cell_type": "code",
      "source": [
        "neutral=tweet_dataset[tweet_dataset['Score']==\"Neutral\"]\n",
        "print(str(neutral.shape[0]/(tweet_dataset.shape[0])*100)+\"% of Neutral tweets\")\n",
        "neu=neutral.shape[0]/tweet_dataset.shape[0]*100\n"
      ],
      "metadata": {
        "colab": {
          "base_uri": "https://localhost:8080/"
        },
        "id": "iJTRv7mOQuKq",
        "outputId": "4759f804-d43d-4bfe-ff9f-92a1de18411f"
      },
      "execution_count": 63,
      "outputs": [
        {
          "output_type": "stream",
          "name": "stdout",
          "text": [
            "26.666666666666668% of Neutral tweets\n"
          ]
        }
      ]
    },
    {
      "cell_type": "code",
      "source": [
        "labels = 'Positive', 'Negative', 'Neutral'\n",
        "sizes = [73.3333, 0.0, 26.6666]\n",
        "colors = ['purple', 'purple', 'green']\n",
        "explode = (0.1, 0, 0)  # explode 1st slice\n",
        "plt.pie(sizes, explode=explode, labels=labels, colors=colors, autopct='%1.1f%%', shadow=True, startangle=140)\n",
        "plt.axis('equal')\n",
        "plt.show()"
      ],
      "metadata": {
        "colab": {
          "base_uri": "https://localhost:8080/",
          "height": 256
        },
        "id": "IL2PFuXQSsTE",
        "outputId": "b0a64078-f613-4ca9-8d84-67c27d132cf9"
      },
      "execution_count": 76,
      "outputs": [
        {
          "output_type": "display_data",
          "data": {
            "text/plain": [
              "<Figure size 432x288 with 1 Axes>"
            ],
            "image/png": "[encoded data removed]"
          },
          "metadata": {}
        }
      ]
    }
  ]
}